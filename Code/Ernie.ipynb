{
 "cells": [
  {
   "cell_type": "code",
   "execution_count": null,
   "metadata": {},
   "outputs": [],
   "source": []
  }
 ],
 "metadata": {
  "kernelspec": {
   "display_name": "Python 3.6.9 ('wnn': virtualenv)",
   "language": "python",
   "name": "python3"
  },
  "language_info": {
   "name": "python",
   "version": "3.6.9"
  },
  "orig_nbformat": 4,
  "vscode": {
   "interpreter": {
    "hash": "5e43e39e9821f92a8272aa154858caef2fb60dc1fb15dc17a8e2b75dc8b957f1"
   }
  }
 },
 "nbformat": 4,
 "nbformat_minor": 2
}
