{
 "cells": [
  {
   "cell_type": "markdown",
   "metadata": {},
   "source": [
    "### 数据预处理"
   ]
  },
  {
   "cell_type": "markdown",
   "metadata": {},
   "source": [
    "#### 1. 根据语料分别构建源数据词表 和 目标数据词表"
   ]
  },
  {
   "cell_type": "code",
   "execution_count": null,
   "metadata": {},
   "outputs": [],
   "source": [
    "import sys \n",
    "sys.path.append(\"..\")\n",
    "from Utils.Dictionary import Dictionary\n",
    "\n",
    "\n",
    "data_path = \"../Data/Dataset/data.csv\"\n",
    "source_dic_path = \"../Data/source_vocal.pkl\"\n",
    "target_dic_path = \"../Data/target_vocal.pkl\"\n",
    "\n",
    "\n",
    "# 生成 源数据字典 and 目标数据字典\n",
    "source_dic = Dictionary()\n",
    "source_dic.load_from_data(data_path, \"raw_data\")\n",
    "source_dic.dump_to_file(source_dic_path)\n",
    "\n",
    "target_dic = Dictionary()\n",
    "target_dic.load_from_data(data_path, \"raw_data\")\n",
    "target_dic.dump_to_file(target_dic_path)\n",
    "target_dic.word2idx"
   ]
  },
  {
   "cell_type": "markdown",
   "metadata": {},
   "source": [
    "#### 2. 数据集的划分（如果已经划分好就不必划分）"
   ]
  },
  {
   "cell_type": "code",
   "execution_count": 11,
   "metadata": {},
   "outputs": [],
   "source": [
    "import pandas as pd\n",
    "\n",
    "# 文件路径\n",
    "data_path = \"../Data/Dataset/data.csv\"\n",
    "train_data_path = \"../Data/Dataset/train_data.csv\"\n",
    "test_data_path = \"../Data/Dataset/test_data.csv\"\n",
    "\n",
    "# 数据集划分\n",
    "split_ratio = 0.8\n",
    "dataset = pd.read_csv(data_path, index_col=0)\n",
    "train_set = dataset.sample(frac = split_ratio, random_state=0, axis=0)\n",
    "test_set = dataset[~dataset.index.isin(train_set.index)]\n",
    "\n",
    "# 数据集保存\n",
    "train_set.to_csv(train_data_path)\n",
    "test_set.to_csv(test_data_path)\n"
   ]
  }
 ],
 "metadata": {
  "interpreter": {
   "hash": "3d696f3826b7c7df140d5da393a635d37b06efd5c1eee0ae51f5f6acb9f78285"
  },
  "kernelspec": {
   "display_name": "Python 3.9.7 64-bit ('base': conda)",
   "language": "python",
   "name": "python3"
  },
  "language_info": {
   "codemirror_mode": {
    "name": "ipython",
    "version": 3
   },
   "file_extension": ".py",
   "mimetype": "text/x-python",
   "name": "python",
   "nbconvert_exporter": "python",
   "pygments_lexer": "ipython3",
   "version": "3.7.6"
  },
  "orig_nbformat": 4
 },
 "nbformat": 4,
 "nbformat_minor": 2
}
